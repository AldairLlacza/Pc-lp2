{
 "cells": [
  {
   "cell_type": "code",
   "execution_count": null,
   "metadata": {},
   "outputs": [],
   "source": [
    "1)Introducción a Jupyter Python\n",
    "#Titulo del tema\n",
    "#Imagen\n",
    "#Introdución (referiere el tema)\n",
    "# Formulas matemáticas (dependiendo el tema)\n",
    "#enlaces web a donde dirigirse y encontrar más información\n",
    "#Referencia Bibliográfica\n",
    "Commit -m \"Tema-Markdown\"\n",
    "\n",
    "Repositorio de Datos:\n",
    "https://archive.ics.uci.edu/ml/index.php\n",
    "    (La data se obtiene en la sección DATA FOLDER)\n",
    "#Para aplicar Ficheros (solo lectura de datos y descriptivos)\n",
    "commit -m \"Tema-Ficheros\"\n",
    "\n",
    "2) Redes y sockets\n",
    "#Html \n",
    "#Sobre los integrantes del grupo:\n",
    "#Nombres y apellidos, ciclo, carrera, lo que desean lograr (trabajo,etc)\n",
    "commit -m \"HTML-Integrantes\"\n",
    "\n",
    "3)Introducción a Web Scraping\n",
    "\n",
    "#Creen con formato JSON \"el negocio de Artículos electrónicos\"\n",
    "(celulares,tablets, laptops,camaras,etc)\n",
    "#dar lectura de cantidades de los productos\n",
    "commit -m \"JSON - AE\"\n",
    "\n",
    "4)APIS\n",
    "\n",
    "#Elegir un tema libre y extraer información\n",
    "commit -m \"Tema - API\"\n",
    "\n",
    "Todo lo anterior mediante GIT Y GITHUB \n",
    "\n",
    "\n",
    "Enviarme la invitación o darme acceso\n",
    "\n",
    "\n",
    "\n",
    "\n",
    "\n",
    "\n"
   ]
  }
 ],
 "metadata": {
  "kernelspec": {
   "display_name": "Python 3",
   "language": "python",
   "name": "python3"
  },
  "language_info": {
   "codemirror_mode": {
    "name": "ipython",
    "version": 3
   },
   "file_extension": ".py",
   "mimetype": "text/x-python",
   "name": "python",
   "nbconvert_exporter": "python",
   "pygments_lexer": "ipython3",
   "version": "3.8.5"
  }
 },
 "nbformat": 4,
 "nbformat_minor": 4
}
